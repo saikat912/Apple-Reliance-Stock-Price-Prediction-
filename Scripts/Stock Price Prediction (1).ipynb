{
 "cells": [
  {
   "cell_type": "code",
   "execution_count": null,
   "id": "969cac4b-00b5-4828-b914-65f5b4adde7f",
   "metadata": {},
   "outputs": [],
   "source": [
    "# Time Series Forecasting\n",
    "## ARIMA - Auto Regressive Integrated Moving Average\n",
    "### Durbin watson value should be either less than 1.5 or more than 2.5\n",
    "### There must be date and time column\n",
    "### Date column should be in sequence order\n",
    "### There should not be any missing data - imputation method\n",
    "### check whether we have trend, seasonality, cyclical and random noise - decomposition method\n",
    "### Time Series Forecasting value should be numeric and atleast 2 column (one datetime and 2nd prediction)\n",
    "### Time Series Forecasting predicted value should be \"Stationary\" - Augmented Dickey Fuller Test or Rolling method"
   ]
  },
  {
   "cell_type": "raw",
   "id": "b603cc13-e896-4a9a-bc73-6feb544f045e",
   "metadata": {},
   "source": [
    "Problem Statement and Agenda:\n",
    "\n",
    "One of the applications of Time Series Forecasting is to forecast the opening stock prices, closing stock prices, volume of stocks to be traded etc. In this data driven world, many firms are trying to forecast the future behaviour of the stock market. For this particular case study, we have the stock price data of Apple from the NASDAQ stock exchange for some time periods of 2018 through to 2019. We are going to divide our data into training and test, build our models on the training data, forecast for the test data time stamps and then evaluate using the Root Mean Squared Error (RMSE) model evaluation metric.\n",
    "\n",
    "The following things will be covered in this case study:\n",
    "•\tExploratory Data Analysis\n",
    "•\tARIMA/SARIMA models (with and without exogenous variables)\n"
   ]
  },
  {
   "cell_type": "markdown",
   "id": "8fdb9802-3db5-4875-acf6-bce981f6f3a0",
   "metadata": {},
   "source": [
    "# Import the required libraries"
   ]
  },
  {
   "cell_type": "code",
   "execution_count": 3,
   "id": "3ae21342-11f5-4860-8284-50a687d25a8f",
   "metadata": {},
   "outputs": [],
   "source": [
    "import os\n",
    "import numpy as np\n",
    "import pandas as pd\n",
    "import matplotlib.pyplot as plt\n",
    "import seaborn as sns\n",
    "%matplotlib inline\n",
    "sns.set()\n",
    "import warnings\n",
    "warnings.filterwarnings('ignore')\n",
    "from datetime import datetime\n",
    "from pandas import Series\n",
    "from numpy import log"
   ]
  },
  {
   "cell_type": "code",
   "execution_count": 11,
   "id": "77943c6d-4041-4331-9a36-d3f7cbb6b8e1",
   "metadata": {},
   "outputs": [
    {
     "data": {
      "text/html": [
       "<div>\n",
       "<style scoped>\n",
       "    .dataframe tbody tr th:only-of-type {\n",
       "        vertical-align: middle;\n",
       "    }\n",
       "\n",
       "    .dataframe tbody tr th {\n",
       "        vertical-align: top;\n",
       "    }\n",
       "\n",
       "    .dataframe thead th {\n",
       "        text-align: right;\n",
       "    }\n",
       "</style>\n",
       "<table border=\"1\" class=\"dataframe\">\n",
       "  <thead>\n",
       "    <tr style=\"text-align: right;\">\n",
       "      <th></th>\n",
       "      <th>Date</th>\n",
       "      <th>Open</th>\n",
       "      <th>High</th>\n",
       "      <th>Low</th>\n",
       "      <th>Close</th>\n",
       "      <th>Adj Close</th>\n",
       "      <th>Volume</th>\n",
       "    </tr>\n",
       "  </thead>\n",
       "  <tbody>\n",
       "    <tr>\n",
       "      <th>0</th>\n",
       "      <td>8/15/2018</td>\n",
       "      <td>209.220001</td>\n",
       "      <td>210.740005</td>\n",
       "      <td>208.330002</td>\n",
       "      <td>210.240005</td>\n",
       "      <td>207.027420</td>\n",
       "      <td>28807600</td>\n",
       "    </tr>\n",
       "    <tr>\n",
       "      <th>1</th>\n",
       "      <td>8/16/2018</td>\n",
       "      <td>211.750000</td>\n",
       "      <td>213.809998</td>\n",
       "      <td>211.470001</td>\n",
       "      <td>213.320007</td>\n",
       "      <td>210.060333</td>\n",
       "      <td>28500400</td>\n",
       "    </tr>\n",
       "    <tr>\n",
       "      <th>2</th>\n",
       "      <td>8/17/2018</td>\n",
       "      <td>213.440002</td>\n",
       "      <td>217.949997</td>\n",
       "      <td>213.160004</td>\n",
       "      <td>217.580002</td>\n",
       "      <td>214.255234</td>\n",
       "      <td>35427000</td>\n",
       "    </tr>\n",
       "    <tr>\n",
       "      <th>3</th>\n",
       "      <td>8/20/2018</td>\n",
       "      <td>218.100006</td>\n",
       "      <td>219.179993</td>\n",
       "      <td>215.110001</td>\n",
       "      <td>215.460007</td>\n",
       "      <td>212.167633</td>\n",
       "      <td>30287700</td>\n",
       "    </tr>\n",
       "    <tr>\n",
       "      <th>4</th>\n",
       "      <td>8/21/2018</td>\n",
       "      <td>216.800003</td>\n",
       "      <td>217.190002</td>\n",
       "      <td>214.029999</td>\n",
       "      <td>215.039993</td>\n",
       "      <td>211.754028</td>\n",
       "      <td>26159800</td>\n",
       "    </tr>\n",
       "    <tr>\n",
       "      <th>5</th>\n",
       "      <td>8/22/2018</td>\n",
       "      <td>214.100006</td>\n",
       "      <td>216.360001</td>\n",
       "      <td>213.839996</td>\n",
       "      <td>215.050003</td>\n",
       "      <td>211.763901</td>\n",
       "      <td>19018100</td>\n",
       "    </tr>\n",
       "    <tr>\n",
       "      <th>6</th>\n",
       "      <td>8/23/2018</td>\n",
       "      <td>214.649994</td>\n",
       "      <td>217.050003</td>\n",
       "      <td>214.600006</td>\n",
       "      <td>215.490005</td>\n",
       "      <td>212.197189</td>\n",
       "      <td>18883200</td>\n",
       "    </tr>\n",
       "    <tr>\n",
       "      <th>7</th>\n",
       "      <td>8/24/2018</td>\n",
       "      <td>216.600006</td>\n",
       "      <td>216.899994</td>\n",
       "      <td>215.110001</td>\n",
       "      <td>216.160004</td>\n",
       "      <td>212.856949</td>\n",
       "      <td>18476400</td>\n",
       "    </tr>\n",
       "    <tr>\n",
       "      <th>8</th>\n",
       "      <td>8/27/2018</td>\n",
       "      <td>217.149994</td>\n",
       "      <td>218.740005</td>\n",
       "      <td>216.330002</td>\n",
       "      <td>217.940002</td>\n",
       "      <td>214.609741</td>\n",
       "      <td>20525100</td>\n",
       "    </tr>\n",
       "    <tr>\n",
       "      <th>9</th>\n",
       "      <td>8/28/2018</td>\n",
       "      <td>219.009995</td>\n",
       "      <td>220.539993</td>\n",
       "      <td>218.919998</td>\n",
       "      <td>219.699997</td>\n",
       "      <td>216.342850</td>\n",
       "      <td>22776800</td>\n",
       "    </tr>\n",
       "    <tr>\n",
       "      <th>10</th>\n",
       "      <td>8/29/2018</td>\n",
       "      <td>220.149994</td>\n",
       "      <td>223.490005</td>\n",
       "      <td>219.410004</td>\n",
       "      <td>222.979996</td>\n",
       "      <td>219.572723</td>\n",
       "      <td>27254800</td>\n",
       "    </tr>\n",
       "    <tr>\n",
       "      <th>11</th>\n",
       "      <td>8/30/2018</td>\n",
       "      <td>223.250000</td>\n",
       "      <td>228.259995</td>\n",
       "      <td>222.399994</td>\n",
       "      <td>225.029999</td>\n",
       "      <td>221.591385</td>\n",
       "      <td>48793800</td>\n",
       "    </tr>\n",
       "    <tr>\n",
       "      <th>12</th>\n",
       "      <td>8/31/2018</td>\n",
       "      <td>226.509995</td>\n",
       "      <td>228.869995</td>\n",
       "      <td>226.000000</td>\n",
       "      <td>227.630005</td>\n",
       "      <td>224.151657</td>\n",
       "      <td>43340100</td>\n",
       "    </tr>\n",
       "    <tr>\n",
       "      <th>13</th>\n",
       "      <td>9/4/2018</td>\n",
       "      <td>228.410004</td>\n",
       "      <td>229.179993</td>\n",
       "      <td>226.630005</td>\n",
       "      <td>228.360001</td>\n",
       "      <td>224.870499</td>\n",
       "      <td>27390100</td>\n",
       "    </tr>\n",
       "    <tr>\n",
       "      <th>14</th>\n",
       "      <td>9/5/2018</td>\n",
       "      <td>228.990005</td>\n",
       "      <td>229.669998</td>\n",
       "      <td>225.100006</td>\n",
       "      <td>226.869995</td>\n",
       "      <td>223.403275</td>\n",
       "      <td>33333000</td>\n",
       "    </tr>\n",
       "    <tr>\n",
       "      <th>15</th>\n",
       "      <td>9/6/2018</td>\n",
       "      <td>226.229996</td>\n",
       "      <td>227.350006</td>\n",
       "      <td>221.300003</td>\n",
       "      <td>223.100006</td>\n",
       "      <td>219.690903</td>\n",
       "      <td>34290000</td>\n",
       "    </tr>\n",
       "    <tr>\n",
       "      <th>16</th>\n",
       "      <td>9/7/2018</td>\n",
       "      <td>221.850006</td>\n",
       "      <td>225.369995</td>\n",
       "      <td>220.710007</td>\n",
       "      <td>221.300003</td>\n",
       "      <td>217.918411</td>\n",
       "      <td>37619800</td>\n",
       "    </tr>\n",
       "    <tr>\n",
       "      <th>17</th>\n",
       "      <td>9/10/2018</td>\n",
       "      <td>220.949997</td>\n",
       "      <td>221.850006</td>\n",
       "      <td>216.470001</td>\n",
       "      <td>218.330002</td>\n",
       "      <td>214.993759</td>\n",
       "      <td>39516500</td>\n",
       "    </tr>\n",
       "    <tr>\n",
       "      <th>18</th>\n",
       "      <td>9/11/2018</td>\n",
       "      <td>218.009995</td>\n",
       "      <td>224.300003</td>\n",
       "      <td>216.559998</td>\n",
       "      <td>223.850006</td>\n",
       "      <td>220.429443</td>\n",
       "      <td>35749000</td>\n",
       "    </tr>\n",
       "    <tr>\n",
       "      <th>19</th>\n",
       "      <td>9/12/2018</td>\n",
       "      <td>224.940002</td>\n",
       "      <td>225.000000</td>\n",
       "      <td>219.839996</td>\n",
       "      <td>221.070007</td>\n",
       "      <td>217.691925</td>\n",
       "      <td>49278700</td>\n",
       "    </tr>\n",
       "  </tbody>\n",
       "</table>\n",
       "</div>"
      ],
      "text/plain": [
       "         Date        Open        High         Low       Close   Adj Close  \\\n",
       "0   8/15/2018  209.220001  210.740005  208.330002  210.240005  207.027420   \n",
       "1   8/16/2018  211.750000  213.809998  211.470001  213.320007  210.060333   \n",
       "2   8/17/2018  213.440002  217.949997  213.160004  217.580002  214.255234   \n",
       "3   8/20/2018  218.100006  219.179993  215.110001  215.460007  212.167633   \n",
       "4   8/21/2018  216.800003  217.190002  214.029999  215.039993  211.754028   \n",
       "5   8/22/2018  214.100006  216.360001  213.839996  215.050003  211.763901   \n",
       "6   8/23/2018  214.649994  217.050003  214.600006  215.490005  212.197189   \n",
       "7   8/24/2018  216.600006  216.899994  215.110001  216.160004  212.856949   \n",
       "8   8/27/2018  217.149994  218.740005  216.330002  217.940002  214.609741   \n",
       "9   8/28/2018  219.009995  220.539993  218.919998  219.699997  216.342850   \n",
       "10  8/29/2018  220.149994  223.490005  219.410004  222.979996  219.572723   \n",
       "11  8/30/2018  223.250000  228.259995  222.399994  225.029999  221.591385   \n",
       "12  8/31/2018  226.509995  228.869995  226.000000  227.630005  224.151657   \n",
       "13   9/4/2018  228.410004  229.179993  226.630005  228.360001  224.870499   \n",
       "14   9/5/2018  228.990005  229.669998  225.100006  226.869995  223.403275   \n",
       "15   9/6/2018  226.229996  227.350006  221.300003  223.100006  219.690903   \n",
       "16   9/7/2018  221.850006  225.369995  220.710007  221.300003  217.918411   \n",
       "17  9/10/2018  220.949997  221.850006  216.470001  218.330002  214.993759   \n",
       "18  9/11/2018  218.009995  224.300003  216.559998  223.850006  220.429443   \n",
       "19  9/12/2018  224.940002  225.000000  219.839996  221.070007  217.691925   \n",
       "\n",
       "      Volume  \n",
       "0   28807600  \n",
       "1   28500400  \n",
       "2   35427000  \n",
       "3   30287700  \n",
       "4   26159800  \n",
       "5   19018100  \n",
       "6   18883200  \n",
       "7   18476400  \n",
       "8   20525100  \n",
       "9   22776800  \n",
       "10  27254800  \n",
       "11  48793800  \n",
       "12  43340100  \n",
       "13  27390100  \n",
       "14  33333000  \n",
       "15  34290000  \n",
       "16  37619800  \n",
       "17  39516500  \n",
       "18  35749000  \n",
       "19  49278700  "
      ]
     },
     "execution_count": 11,
     "metadata": {},
     "output_type": "execute_result"
    }
   ],
   "source": [
    "df = pd.read_csv('datasets_302666_618181_AAPL.csv')\n",
    "df.head(20)"
   ]
  },
  {
   "cell_type": "code",
   "execution_count": 7,
   "id": "7da539ed-b386-4d95-b7b1-5fbcb9c9e989",
   "metadata": {},
   "outputs": [],
   "source": [
    "from pandas.tseries.offsets import BDay"
   ]
  },
  {
   "cell_type": "code",
   "execution_count": 9,
   "id": "8eecd3ec-09b7-4c2c-9f0d-caa8998b37bc",
   "metadata": {},
   "outputs": [
    {
     "data": {
      "text/plain": [
       "(251, 7)"
      ]
     },
     "execution_count": 9,
     "metadata": {},
     "output_type": "execute_result"
    }
   ],
   "source": [
    "df.shape"
   ]
  },
  {
   "cell_type": "code",
   "execution_count": 13,
   "id": "43492abc-af6d-4d48-b14c-07d6ee15a09a",
   "metadata": {},
   "outputs": [],
   "source": [
    "df_date = df[['Date','Volume']]"
   ]
  },
  {
   "cell_type": "code",
   "execution_count": 17,
   "id": "0d2bce39-3794-4ec8-9f1c-6c5f00e63e9b",
   "metadata": {},
   "outputs": [
    {
     "data": {
      "text/html": [
       "<div>\n",
       "<style scoped>\n",
       "    .dataframe tbody tr th:only-of-type {\n",
       "        vertical-align: middle;\n",
       "    }\n",
       "\n",
       "    .dataframe tbody tr th {\n",
       "        vertical-align: top;\n",
       "    }\n",
       "\n",
       "    .dataframe thead th {\n",
       "        text-align: right;\n",
       "    }\n",
       "</style>\n",
       "<table border=\"1\" class=\"dataframe\">\n",
       "  <thead>\n",
       "    <tr style=\"text-align: right;\">\n",
       "      <th></th>\n",
       "      <th>Date</th>\n",
       "      <th>Volume</th>\n",
       "    </tr>\n",
       "  </thead>\n",
       "  <tbody>\n",
       "    <tr>\n",
       "      <th>246</th>\n",
       "      <td>8/8/2019</td>\n",
       "      <td>27009500</td>\n",
       "    </tr>\n",
       "    <tr>\n",
       "      <th>247</th>\n",
       "      <td>8/9/2019</td>\n",
       "      <td>24619700</td>\n",
       "    </tr>\n",
       "    <tr>\n",
       "      <th>248</th>\n",
       "      <td>8/12/2019</td>\n",
       "      <td>22474900</td>\n",
       "    </tr>\n",
       "    <tr>\n",
       "      <th>249</th>\n",
       "      <td>8/13/2019</td>\n",
       "      <td>47218500</td>\n",
       "    </tr>\n",
       "    <tr>\n",
       "      <th>250</th>\n",
       "      <td>8/14/2019</td>\n",
       "      <td>36453100</td>\n",
       "    </tr>\n",
       "  </tbody>\n",
       "</table>\n",
       "</div>"
      ],
      "text/plain": [
       "          Date    Volume\n",
       "246   8/8/2019  27009500\n",
       "247   8/9/2019  24619700\n",
       "248  8/12/2019  22474900\n",
       "249  8/13/2019  47218500\n",
       "250  8/14/2019  36453100"
      ]
     },
     "execution_count": 17,
     "metadata": {},
     "output_type": "execute_result"
    }
   ],
   "source": [
    "df_date.tail()"
   ]
  },
  {
   "cell_type": "code",
   "execution_count": 19,
   "id": "28c0e2a1-0673-49ac-9944-e4c82d7fa314",
   "metadata": {},
   "outputs": [],
   "source": [
    "date1 = pd.date_range(start='8/15/2018', end='8/14/2019', freq=BDay())"
   ]
  },
  {
   "cell_type": "code",
   "execution_count": 21,
   "id": "4e4b0f75-4b28-487d-b1cd-a9fc47096abf",
   "metadata": {},
   "outputs": [
    {
     "data": {
      "text/plain": [
       "DatetimeIndex(['2018-08-15', '2018-08-16', '2018-08-17', '2018-08-20',\n",
       "               '2018-08-21', '2018-08-22', '2018-08-23', '2018-08-24',\n",
       "               '2018-08-27', '2018-08-28',\n",
       "               ...\n",
       "               '2019-08-01', '2019-08-02', '2019-08-05', '2019-08-06',\n",
       "               '2019-08-07', '2019-08-08', '2019-08-09', '2019-08-12',\n",
       "               '2019-08-13', '2019-08-14'],\n",
       "              dtype='datetime64[ns]', length=261, freq='B')"
      ]
     },
     "execution_count": 21,
     "metadata": {},
     "output_type": "execute_result"
    }
   ],
   "source": [
    "date1"
   ]
  },
  {
   "cell_type": "code",
   "execution_count": 23,
   "id": "8ad67f75-3e82-4c1c-8704-b8ebc77cea3d",
   "metadata": {},
   "outputs": [
    {
     "data": {
      "text/plain": [
       "261"
      ]
     },
     "execution_count": 23,
     "metadata": {},
     "output_type": "execute_result"
    }
   ],
   "source": [
    "len(date1)"
   ]
  },
  {
   "cell_type": "code",
   "execution_count": 29,
   "id": "a7d311f1-1cf9-4693-9583-4382baa25ada",
   "metadata": {},
   "outputs": [
    {
     "data": {
      "text/plain": [
       "<CustomBusinessDay>"
      ]
     },
     "execution_count": 29,
     "metadata": {},
     "output_type": "execute_result"
    }
   ],
   "source": [
    "from pandas.tseries.holiday import USFederalHolidayCalendar\n",
    "from pandas.tseries.offsets import CustomBusinessDay\n",
    "us_bd = CustomBusinessDay(calendar=USFederalHolidayCalendar())\n",
    "us_bd"
   ]
  },
  {
   "cell_type": "code",
   "execution_count": 31,
   "id": "569779b5-2b7d-4d25-8494-6b9df918c7d2",
   "metadata": {},
   "outputs": [],
   "source": [
    "date2 = pd.date_range(start='8/15/2018', end='8/14/2019', freq=us_bd)"
   ]
  },
  {
   "cell_type": "code",
   "execution_count": 33,
   "id": "84de43b5-e741-4c03-89ff-8437e3b02d33",
   "metadata": {},
   "outputs": [
    {
     "data": {
      "text/plain": [
       "DatetimeIndex(['2018-08-15', '2018-08-16', '2018-08-17', '2018-08-20',\n",
       "               '2018-08-21', '2018-08-22', '2018-08-23', '2018-08-24',\n",
       "               '2018-08-27', '2018-08-28',\n",
       "               ...\n",
       "               '2019-08-01', '2019-08-02', '2019-08-05', '2019-08-06',\n",
       "               '2019-08-07', '2019-08-08', '2019-08-09', '2019-08-12',\n",
       "               '2019-08-13', '2019-08-14'],\n",
       "              dtype='datetime64[ns]', length=251, freq='C')"
      ]
     },
     "execution_count": 33,
     "metadata": {},
     "output_type": "execute_result"
    }
   ],
   "source": [
    "date2"
   ]
  },
  {
   "cell_type": "code",
   "execution_count": 35,
   "id": "bd71ab06-6f03-4d32-a3bb-aca68443c19c",
   "metadata": {},
   "outputs": [
    {
     "data": {
      "text/plain": [
       "251"
      ]
     },
     "execution_count": 35,
     "metadata": {},
     "output_type": "execute_result"
    }
   ],
   "source": [
    "len(date2)"
   ]
  },
  {
   "cell_type": "code",
   "execution_count": 47,
   "id": "c5ce6910-9340-433e-895b-013d8ea99e30",
   "metadata": {},
   "outputs": [],
   "source": [
    "df_date['Time_Stamp'] = pd.DataFrame(date2, columns=['Date'])\n",
    "df_date['Open'] = pd.DataFrame(df, columns=['Open'])"
   ]
  },
  {
   "cell_type": "code",
   "execution_count": 49,
   "id": "3b89d4c8-1332-428a-9cb0-292aa65ce2c4",
   "metadata": {},
   "outputs": [
    {
     "data": {
      "text/html": [
       "<div>\n",
       "<style scoped>\n",
       "    .dataframe tbody tr th:only-of-type {\n",
       "        vertical-align: middle;\n",
       "    }\n",
       "\n",
       "    .dataframe tbody tr th {\n",
       "        vertical-align: top;\n",
       "    }\n",
       "\n",
       "    .dataframe thead th {\n",
       "        text-align: right;\n",
       "    }\n",
       "</style>\n",
       "<table border=\"1\" class=\"dataframe\">\n",
       "  <thead>\n",
       "    <tr style=\"text-align: right;\">\n",
       "      <th></th>\n",
       "      <th>Date</th>\n",
       "      <th>Volume</th>\n",
       "      <th>Time_Stamp</th>\n",
       "      <th>Open</th>\n",
       "    </tr>\n",
       "  </thead>\n",
       "  <tbody>\n",
       "    <tr>\n",
       "      <th>0</th>\n",
       "      <td>8/15/2018</td>\n",
       "      <td>28807600</td>\n",
       "      <td>2018-08-15</td>\n",
       "      <td>209.220001</td>\n",
       "    </tr>\n",
       "    <tr>\n",
       "      <th>1</th>\n",
       "      <td>8/16/2018</td>\n",
       "      <td>28500400</td>\n",
       "      <td>2018-08-16</td>\n",
       "      <td>211.750000</td>\n",
       "    </tr>\n",
       "    <tr>\n",
       "      <th>2</th>\n",
       "      <td>8/17/2018</td>\n",
       "      <td>35427000</td>\n",
       "      <td>2018-08-17</td>\n",
       "      <td>213.440002</td>\n",
       "    </tr>\n",
       "    <tr>\n",
       "      <th>3</th>\n",
       "      <td>8/20/2018</td>\n",
       "      <td>30287700</td>\n",
       "      <td>2018-08-20</td>\n",
       "      <td>218.100006</td>\n",
       "    </tr>\n",
       "    <tr>\n",
       "      <th>4</th>\n",
       "      <td>8/21/2018</td>\n",
       "      <td>26159800</td>\n",
       "      <td>2018-08-21</td>\n",
       "      <td>216.800003</td>\n",
       "    </tr>\n",
       "    <tr>\n",
       "      <th>...</th>\n",
       "      <td>...</td>\n",
       "      <td>...</td>\n",
       "      <td>...</td>\n",
       "      <td>...</td>\n",
       "    </tr>\n",
       "    <tr>\n",
       "      <th>246</th>\n",
       "      <td>8/8/2019</td>\n",
       "      <td>27009500</td>\n",
       "      <td>2019-08-08</td>\n",
       "      <td>200.199997</td>\n",
       "    </tr>\n",
       "    <tr>\n",
       "      <th>247</th>\n",
       "      <td>8/9/2019</td>\n",
       "      <td>24619700</td>\n",
       "      <td>2019-08-09</td>\n",
       "      <td>201.300003</td>\n",
       "    </tr>\n",
       "    <tr>\n",
       "      <th>248</th>\n",
       "      <td>8/12/2019</td>\n",
       "      <td>22474900</td>\n",
       "      <td>2019-08-12</td>\n",
       "      <td>199.619995</td>\n",
       "    </tr>\n",
       "    <tr>\n",
       "      <th>249</th>\n",
       "      <td>8/13/2019</td>\n",
       "      <td>47218500</td>\n",
       "      <td>2019-08-13</td>\n",
       "      <td>201.020004</td>\n",
       "    </tr>\n",
       "    <tr>\n",
       "      <th>250</th>\n",
       "      <td>8/14/2019</td>\n",
       "      <td>36453100</td>\n",
       "      <td>2019-08-14</td>\n",
       "      <td>203.160004</td>\n",
       "    </tr>\n",
       "  </tbody>\n",
       "</table>\n",
       "<p>251 rows × 4 columns</p>\n",
       "</div>"
      ],
      "text/plain": [
       "          Date    Volume Time_Stamp        Open\n",
       "0    8/15/2018  28807600 2018-08-15  209.220001\n",
       "1    8/16/2018  28500400 2018-08-16  211.750000\n",
       "2    8/17/2018  35427000 2018-08-17  213.440002\n",
       "3    8/20/2018  30287700 2018-08-20  218.100006\n",
       "4    8/21/2018  26159800 2018-08-21  216.800003\n",
       "..         ...       ...        ...         ...\n",
       "246   8/8/2019  27009500 2019-08-08  200.199997\n",
       "247   8/9/2019  24619700 2019-08-09  201.300003\n",
       "248  8/12/2019  22474900 2019-08-12  199.619995\n",
       "249  8/13/2019  47218500 2019-08-13  201.020004\n",
       "250  8/14/2019  36453100 2019-08-14  203.160004\n",
       "\n",
       "[251 rows x 4 columns]"
      ]
     },
     "execution_count": 49,
     "metadata": {},
     "output_type": "execute_result"
    }
   ],
   "source": [
    "df_date"
   ]
  },
  {
   "cell_type": "code",
   "execution_count": 51,
   "id": "671ef362-eefe-42e1-8bd5-0913c4b32a0f",
   "metadata": {},
   "outputs": [
    {
     "name": "stdout",
     "output_type": "stream",
     "text": [
      "<class 'pandas.core.frame.DataFrame'>\n",
      "RangeIndex: 251 entries, 0 to 250\n",
      "Data columns (total 4 columns):\n",
      " #   Column      Non-Null Count  Dtype         \n",
      "---  ------      --------------  -----         \n",
      " 0   Date        251 non-null    object        \n",
      " 1   Volume      251 non-null    int64         \n",
      " 2   Time_Stamp  251 non-null    datetime64[ns]\n",
      " 3   Open        251 non-null    float64       \n",
      "dtypes: datetime64[ns](1), float64(1), int64(1), object(1)\n",
      "memory usage: 8.0+ KB\n"
     ]
    }
   ],
   "source": [
    "df_date.info()"
   ]
  },
  {
   "cell_type": "code",
   "execution_count": 45,
   "id": "aa88c9f0-03b3-4b62-aedc-d6895d2a05d1",
   "metadata": {},
   "outputs": [
    {
     "data": {
      "text/plain": [
       "Date          0\n",
       "Volume        0\n",
       "Time_Stamp    0\n",
       "dtype: int64"
      ]
     },
     "execution_count": 45,
     "metadata": {},
     "output_type": "execute_result"
    }
   ],
   "source": [
    "df_date.isnull().sum()"
   ]
  },
  {
   "cell_type": "code",
   "execution_count": 53,
   "id": "6b3d87f7-8e91-48ae-9363-bf32f7168438",
   "metadata": {},
   "outputs": [
    {
     "data": {
      "text/plain": [
       "0.13804147049471416"
      ]
     },
     "execution_count": 53,
     "metadata": {},
     "output_type": "execute_result"
    }
   ],
   "source": [
    "# Durbin Watson Test\n",
    "import statsmodels.api as sm\n",
    "sm.stats.durbin_watson(df_date['Volume'])"
   ]
  },
  {
   "cell_type": "code",
   "execution_count": 55,
   "id": "15ee2e7b-de72-451e-b3d8-749e304710db",
   "metadata": {},
   "outputs": [
    {
     "data": {
      "text/plain": [
       "0.0003174209031518406"
      ]
     },
     "execution_count": 55,
     "metadata": {},
     "output_type": "execute_result"
    }
   ],
   "source": [
    "import statsmodels.api as sm\n",
    "sm.stats.durbin_watson(df_date['Open'])"
   ]
  },
  {
   "cell_type": "code",
   "execution_count": null,
   "id": "d5cb9f54-eb5b-4180-90cc-e7ef461864d9",
   "metadata": {},
   "outputs": [],
   "source": [
    "### Durbin watson value should be either less than 1.5 or more than 2.5 - Satisfied\n",
    "### There must be date and time column - satisfied\n",
    "### Date column should be in sequence order - Satisfied\n",
    "### There should not be any missing data - imputation method - Satisfied \n",
    "### check whether we have trend, seasonality, cyclicity and random noise - decomposition method - checked and we have trend and seasonality there\n",
    "### Time Series Forecasting value should be numeric and atleast 2 column (one datetime and 2nd prediction) - Satisfied\n",
    "### Time Series Forecasting predicted value should be \"Stationary\" - Augmented Dickey Fuller Test or Rolling method"
   ]
  },
  {
   "cell_type": "code",
   "execution_count": 59,
   "id": "0a8c2a63-ec18-49cf-8201-f2dd6f0853fb",
   "metadata": {},
   "outputs": [
    {
     "data": {
      "image/png": "[encoded data removed]",
      "text/plain": [
       "<Figure size 640x480 with 4 Axes>"
      ]
     },
     "metadata": {},
     "output_type": "display_data"
    }
   ],
   "source": [
    "# Decomposition method\n",
    "from statsmodels.tsa.seasonal import seasonal_decompose\n",
    "decomposition = seasonal_decompose(df_date['Volume'], period=12)\n",
    "decomposition.plot()\n",
    "plt.show()"
   ]
  },
  {
   "cell_type": "code",
   "execution_count": 61,
   "id": "247d1256-e886-4740-9fcd-3dcd5ca02b02",
   "metadata": {},
   "outputs": [],
   "source": [
    "df_date['Date'] = pd.to_datetime(df_date['Date'])"
   ]
  },
  {
   "cell_type": "code",
   "execution_count": 63,
   "id": "af6e918a-b3ff-4d18-9b7c-5a03fccd8c8f",
   "metadata": {},
   "outputs": [
    {
     "name": "stdout",
     "output_type": "stream",
     "text": [
      "<class 'pandas.core.frame.DataFrame'>\n",
      "RangeIndex: 251 entries, 0 to 250\n",
      "Data columns (total 4 columns):\n",
      " #   Column      Non-Null Count  Dtype         \n",
      "---  ------      --------------  -----         \n",
      " 0   Date        251 non-null    datetime64[ns]\n",
      " 1   Volume      251 non-null    int64         \n",
      " 2   Time_Stamp  251 non-null    datetime64[ns]\n",
      " 3   Open        251 non-null    float64       \n",
      "dtypes: datetime64[ns](2), float64(1), int64(1)\n",
      "memory usage: 8.0 KB\n"
     ]
    }
   ],
   "source": [
    "df_date.info()"
   ]
  },
  {
   "cell_type": "code",
   "execution_count": null,
   "id": "e6e999e4-607e-4121-b4eb-4deb2402b4f7",
   "metadata": {},
   "outputs": [],
   "source": []
  },
  {
   "cell_type": "code",
   "execution_count": null,
   "id": "55a6eaaa-8a45-4531-acf5-0bf090d7f349",
   "metadata": {},
   "outputs": [],
   "source": []
  },
  {
   "cell_type": "code",
   "execution_count": null,
   "id": "90abae43-3e05-4905-ad5f-8085cbf7045a",
   "metadata": {},
   "outputs": [],
   "source": []
  },
  {
   "cell_type": "code",
   "execution_count": null,
   "id": "e3c0f5fb-1356-42b5-b8d2-b527f82180a1",
   "metadata": {},
   "outputs": [],
   "source": []
  },
  {
   "cell_type": "code",
   "execution_count": null,
   "id": "c142c15f-d3bb-4f5b-be0b-c4e85299a6f5",
   "metadata": {},
   "outputs": [],
   "source": []
  },
  {
   "cell_type": "code",
   "execution_count": null,
   "id": "56f431eb-6d37-4bb7-acf7-9c9af9e55cfe",
   "metadata": {},
   "outputs": [],
   "source": []
  }
 ],
 "metadata": {
  "kernelspec": {
   "display_name": "Python 3 (ipykernel)",
   "language": "python",
   "name": "python3"
  },
  "language_info": {
   "codemirror_mode": {
    "name": "ipython",
    "version": 3
   },
   "file_extension": ".py",
   "mimetype": "text/x-python",
   "name": "python",
   "nbconvert_exporter": "python",
   "pygments_lexer": "ipython3",
   "version": "3.12.4"
  }
 },
 "nbformat": 4,
 "nbformat_minor": 5
}
